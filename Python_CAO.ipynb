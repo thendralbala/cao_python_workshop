{
  "nbformat": 4,
  "nbformat_minor": 0,
  "metadata": {
    "colab": {
      "provenance": [],
      "include_colab_link": true
    },
    "kernelspec": {
      "name": "python3",
      "display_name": "Python 3"
    },
    "language_info": {
      "name": "python"
    }
  },
  "cells": [
    {
      "cell_type": "markdown",
      "metadata": {
        "id": "view-in-github",
        "colab_type": "text"
      },
      "source": [
        "<a href=\"https://colab.research.google.com/github/thendralbala/cao_python_workshop/blob/main/Python_CAO.ipynb\" target=\"_parent\"><img src=\"https://colab.research.google.com/assets/colab-badge.svg\" alt=\"Open In Colab\"/></a>"
      ]
    },
    {
      "cell_type": "markdown",
      "source": [
        "#Part 1: Python Basics"
      ],
      "metadata": {
        "id": "WIeWcxh2lNpf"
      }
    },
    {
      "cell_type": "markdown",
      "source": [
        "**1. Your First Python Program - Hello, World!**\n",
        "\n",
        "*  In Python, we use the print() function to display a message.\n",
        "\n",
        "*  Functions are verbs or actions that the computer will already know how to perform.\n",
        "\n",
        "*  The print() function knows how to print something on the screen.\n",
        "\n",
        "*  Let's try it out printing \"Hello, World!\" - the traditional first program in any language!\n"
      ],
      "metadata": {
        "id": "6L-kpo-FhE-1"
      }
    },
    {
      "cell_type": "code",
      "execution_count": null,
      "metadata": {
        "id": "etVhzZ8FhELW",
        "collapsed": true
      },
      "outputs": [],
      "source": [
        "print(\" \")"
      ]
    },
    {
      "cell_type": "markdown",
      "source": [
        "**input() function**\n",
        "\n",
        "*  The input() function allows you to get input from the user, and it can take a prompt as an argument."
      ],
      "metadata": {
        "id": "P8gCcqKQ5IB1"
      }
    },
    {
      "cell_type": "code",
      "source": [
        "input(\"What is your name?\")"
      ],
      "metadata": {
        "id": "LfFcsH9UplpZ",
        "collapsed": true
      },
      "execution_count": null,
      "outputs": []
    },
    {
      "cell_type": "markdown",
      "source": [
        "**2. Variables**\n",
        "\n",
        "\n",
        "In Python, a variable is like a container that stores information. You can give this container a name, and then use it to hold different types of data — like a name, age, height, or even True/False values.\n",
        "\n",
        "Common Data Types in Python: str, int, float, bool\n",
        "\n",
        "*  Now, let us store the user input in a container (i.e. variable) called `name`"
      ],
      "metadata": {
        "id": "kTTLWktQ5v1Y"
      }
    },
    {
      "cell_type": "code",
      "source": [
        "name = input(\"What is your name?\")\n",
        "print(\" \")"
      ],
      "metadata": {
        "id": "0PmEo6fX5l0A"
      },
      "execution_count": null,
      "outputs": []
    },
    {
      "cell_type": "markdown",
      "source": [
        "**2.1 Data Types**\n",
        "\n",
        "The Data type of a variable represents what kind f data is being stored in it - text, number, True/False\n",
        "\n",
        "To check data type of a variable, use `type(variable_name)`"
      ],
      "metadata": {
        "id": "ctUH_qi56xiM"
      }
    },
    {
      "cell_type": "code",
      "source": [
        "print(type(name))"
      ],
      "metadata": {
        "id": "-oPXzh1RUnFa"
      },
      "execution_count": null,
      "outputs": []
    },
    {
      "cell_type": "code",
      "source": [
        "student_number =\n",
        "student_qca =\n",
        "is_present =\n",
        "\n",
        "print(f\"Name: { }, Type: { }\")\n",
        "print(f\"Student Number: { }, Type: { }\")\n",
        "print(f\"Student QCA { }, Type: { }\")\n",
        "print(f\"Is Present: { }, Type: { }\")\n",
        "\n"
      ],
      "metadata": {
        "id": "vBJ8SXaf7g6X"
      },
      "execution_count": null,
      "outputs": []
    },
    {
      "cell_type": "markdown",
      "source": [
        "**Task:**\n",
        "\n",
        "*  Create a variable to store the value of age, get the value from the user using the input() function.\n",
        "\n",
        "*  Print the data type of the age variable"
      ],
      "metadata": {
        "id": "CdjzF3b-xvta"
      }
    },
    {
      "cell_type": "code",
      "source": [
        "age = input(\"How old are you?\")\n",
        "\n",
        "print(f\"Age: {age}, Type: {type(age)}\")\n"
      ],
      "metadata": {
        "id": "iyoADutwJlg6"
      },
      "execution_count": null,
      "outputs": []
    },
    {
      "cell_type": "markdown",
      "source": [
        "**3. Loops - Repeat Tasks Easily**\n",
        "\n",
        "**Task:** Print \"Meow\"\n",
        "\n",
        "*   once\n",
        "*   thrice\n",
        "*   10x\n",
        "\n"
      ],
      "metadata": {
        "id": "g8YA4CEIkQ7K"
      }
    },
    {
      "cell_type": "code",
      "source": [
        "# Print \"Meow\" once\n"
      ],
      "metadata": {
        "id": "HSS5QMhBj-9E"
      },
      "execution_count": null,
      "outputs": []
    },
    {
      "cell_type": "code",
      "source": [
        "# Print \"Meow\" thrice\n",
        "\n"
      ],
      "metadata": {
        "id": "yJR9ds6L9jdr"
      },
      "execution_count": null,
      "outputs": []
    },
    {
      "cell_type": "code",
      "source": [],
      "metadata": {
        "collapsed": true,
        "id": "xX8gkjsc_RyG"
      },
      "execution_count": null,
      "outputs": []
    },
    {
      "cell_type": "markdown",
      "source": [
        "A for loop is used to repeat a block of code multiple times.\n",
        "\n",
        "It's like telling the computer:\n",
        "\"Hey, do this again and again... for a certain number of times or for every item in a list!\"\n",
        "\n",
        "\n",
        "\n",
        "**Syntax:**\n",
        "```\n",
        "for variable in iterable:\n",
        "    # code block (indented)\n",
        "```\n",
        "**Components:**\n",
        "*  `for` is the keyword that starts the loop\n",
        "*  `variable` is a placeholder that takes the value of wach item in tthe `iterable`, one at a time.\n",
        "*  `in`  is the keyword that connects the variable to the iterable\n",
        "*  `iterable` is a collection of items you want to loop through, like a range of numbers or a list of names\n",
        "*  `:` ends the loop declaration line and signals that a block of code will follow which should be run once for each item in the iterable.\n"
      ],
      "metadata": {
        "id": "WudOvoKU-Ph6"
      }
    },
    {
      "cell_type": "markdown",
      "source": [
        "**Task:**\n",
        "*  Find the sum of the arithmetic progression 1,2,3,4,.........,100 using for loop"
      ],
      "metadata": {
        "id": "9DKFRXoeKQ5P"
      }
    },
    {
      "cell_type": "code",
      "source": [
        "sum1 = 0\n",
        "\n",
        "for number in range():\n",
        "  sum1 = sum1 + number\n",
        "\n",
        "print(sum1)"
      ],
      "metadata": {
        "id": "z5Rx-jHQylJt"
      },
      "execution_count": null,
      "outputs": []
    },
    {
      "cell_type": "markdown",
      "source": [
        "**Using a list of items as the iterable**\n",
        "\n",
        "*  Create a list of names\n",
        "*  Greet each person in the list.\n",
        "\n",
        "      example:\n",
        "           Hello, Harry\n",
        "           Hello, Ron\n",
        "           Hello, Hermione"
      ],
      "metadata": {
        "id": "osmUWucKzE4Z"
      }
    },
    {
      "cell_type": "code",
      "source": [
        "names = [\"Harry\", \"Hermione\",\"Ron\"]\n",
        "\n",
        "for name in names:\n",
        "  print(f\"Hello, {}\")"
      ],
      "metadata": {
        "id": "PsyXbz1t9n5S"
      },
      "execution_count": null,
      "outputs": []
    },
    {
      "cell_type": "markdown",
      "source": [
        "**4. Lists - Store Multiple Values in One Place**\n",
        "\n",
        "In Python, a list is used to store multiple values in a single variable.\n",
        "You can think of it like a row of boxes, each holding an item — like a shopping list or a list of scores.\n",
        "\n",
        "**Key Features of Lists**\n",
        "*    Lists are written using square brackets\n",
        "\n",
        "\n",
        "```\n",
        "my_list = [\"item1\", \"item2\", \"item3\"]\n",
        "```\n",
        "*    You can store strings, numbers, or even mix them\n",
        "\n",
        "\n",
        "\n",
        "```\n",
        "names = [\"Harry\", \"Hermione\", \"Ron\"]\n",
        "scores = [75, 95, 72]\n",
        "```\n",
        "\n",
        "*    Each item in a list has a position called an index, and it starts from 0\n",
        "\n",
        "      names[0] = \"Harry\"\n",
        "\n",
        "      names[1] = \"Hermione\"\n",
        "\n",
        "      names[2] = \"Ron\"\n",
        "\n",
        "\n",
        "**Task:**\n",
        "\n",
        "*  Create a list of marks scored by a student in 5 different subjects\n",
        "*  Find the average score and print it\n",
        "*  If average score is above 80, print \"A1\", else print \"Not A1\""
      ],
      "metadata": {
        "id": "C3vj8WkjBFpL"
      }
    },
    {
      "cell_type": "code",
      "source": [
        "marks = [95,70,50,72,85]\n",
        "\n",
        "sum = 0\n",
        "\n",
        "for mark in marks:\n",
        "  sum = sum + mark\n",
        "\n",
        "average = sum / len(marks)\n",
        "\n",
        "#Print Average\n",
        "print()\n",
        "\n",
        "#if Average > 80, print A1\n",
        "\n",
        "# or else, print Not A1"
      ],
      "metadata": {
        "id": "ZhYOFfDUCS7n"
      },
      "execution_count": null,
      "outputs": []
    },
    {
      "cell_type": "markdown",
      "source": [
        "**5. Conditionals**\n",
        "\n",
        "A conditional in Python is a way to make decisions in your code.\n",
        "\n",
        "It lets the program check if something is true, and then run specific code based on that.\n",
        "\n",
        "**Basic Syntax:**\n",
        "\n",
        "\n",
        "```\n",
        "if condition:\n",
        "  # code to execute if condition is True\n",
        "else:\n",
        "  # code to execute if condition is False\n",
        "```\n",
        "\n",
        "\n"
      ],
      "metadata": {
        "id": "ETFBZGKg1QeZ"
      }
    },
    {
      "cell_type": "code",
      "source": [
        "age = 20\n",
        "\n",
        "if age>=18:\n",
        "  print(\"You can vote\")\n",
        "else:\n",
        "  print(\"You cannot vote\")"
      ],
      "metadata": {
        "id": "AaqmtYme2OH4"
      },
      "execution_count": null,
      "outputs": []
    },
    {
      "cell_type": "markdown",
      "source": [
        "**if, elif & else**\n",
        "\n",
        "\n",
        "\n",
        "```\n",
        "if condition_1:\n",
        "  # code to execute if condition_1 is True\n",
        "elif condition_2:\n",
        "  # code to execute if condition_1 is False and condition_2 is True\n",
        "elif condition_3:\n",
        "  # code to execute if condition_1, condition_2 are False and condition_3 is True\n",
        "else:\n",
        "  # code to execute if all the above conditions are False\n",
        "```\n",
        "\n",
        "**Task:**\n",
        "*  Write a Python program that takes a student's mark and prints the grade based on the following rules:\n",
        "    * 90 and above -> A\n",
        "    * 80-89 -> B\n",
        "    * 70-79 -> C\n",
        "    * 60-69 -> D\n",
        "    * Below 60 -> F\n"
      ],
      "metadata": {
        "id": "anfYpC_d2VLU"
      }
    },
    {
      "cell_type": "code",
      "source": [
        "mark = 85\n",
        "\n",
        "if mark >= 90:\n",
        "  print(\"A\")\n",
        "elif mark >= 80:\n",
        "  print(\"B\")\n",
        "elif mark >= 70:\n",
        "  print(\"C\")\n",
        "elif mark >= 60:\n",
        "  print(\"D\")\n",
        "else:\n",
        "  print(\"F\")"
      ],
      "metadata": {
        "id": "OYU_3Ra02Tnj"
      },
      "execution_count": null,
      "outputs": []
    },
    {
      "cell_type": "markdown",
      "source": [
        "**5. Math Operations**\n",
        "\n",
        "In Python, you can easily perform basic arithmetic operations using symbols like +, -, *, and /.\n",
        "\n",
        "**Task:** Create two variables a = 10 and b = 3. Perform the following mathematical operations -\n",
        "\n",
        "\n",
        "\n",
        "*   Addition\n",
        "*   Subtraction\n",
        "*   Multiplication\n",
        "*   Division\n",
        "*   Power\n",
        "*   Remainder a.k.a modulo operator\n",
        "\n",
        "\n"
      ],
      "metadata": {
        "id": "HuWBVoplkVwW"
      }
    },
    {
      "cell_type": "code",
      "source": [
        "a = 10\n",
        "b = 3\n",
        "\n",
        "                    # Print the following:\n",
        "                    # a+b\n",
        "                    # a-b\n",
        "                    # a x b\n",
        "                    # a/b\n",
        "                    # a ^ b\n",
        "                    # remainder when you divide a by b"
      ],
      "metadata": {
        "id": "X8lEQd9WkOhF"
      },
      "execution_count": null,
      "outputs": []
    },
    {
      "cell_type": "markdown",
      "source": [
        "**6. Dictionaries - Store Data with Labels**\n",
        "\n",
        "In Python, a dictionary is a way to store related information using key-value pairs.\n",
        "\n",
        "*  Think of it like a real dictionary:\n",
        "\n",
        "*  You look up a word (key)\n",
        "\n",
        "*  You get its definition (value)\n",
        "\n",
        "**Why use Dictionaries?**\n",
        "\n",
        "*  Great for storing structured data\n",
        "\n",
        "*  Easy to look up values using meaningful keys\n",
        "\n",
        "*  Each key is unique, and each key maps to a value\n",
        "\n",
        "**Syntax:**\n",
        "\n",
        "\n",
        "```\n",
        "my_dictionary = {\n",
        "    \"key_1\": \"value_1\",\n",
        "    \"key_2\": \"value_2\",\n",
        "    \"key_3\": \"value_3\"\n",
        "}\n",
        "\n",
        "# You can access values like this:\n",
        "print(my_dictionary[\"key_1\"])   # Output: value_1\n",
        "\n",
        "```\n",
        "\n",
        "**Task:**\n",
        "\n",
        " Create a dictionary that stores a student's information like name, age and grade. Use a for loop to print each key-value pair."
      ],
      "metadata": {
        "id": "1HlohQQjki3p"
      }
    },
    {
      "cell_type": "code",
      "source": [
        "student = {\n",
        "    \"name\": \"Harry\",\n",
        "    \"age\": 11,\n",
        "    \"grade\": \"C\"\n",
        "}\n",
        "\n",
        "print(student[\"name\"])  # Harry\n",
        "\n",
        "# Loop through dictionary\n",
        "for key in student:\n",
        "    print(key, \":\", student[key])"
      ],
      "metadata": {
        "id": "AT6J04H4kgD8",
        "colab": {
          "base_uri": "https://localhost:8080/"
        },
        "outputId": "5d7209b9-69b6-4b0d-e989-2b9d760c73cc"
      },
      "execution_count": null,
      "outputs": [
        {
          "output_type": "stream",
          "name": "stdout",
          "text": [
            "Harry\n",
            "name : Harry\n",
            "age : 11\n",
            "grade : C\n"
          ]
        }
      ]
    },
    {
      "cell_type": "markdown",
      "source": [
        "**7. Functions - Reusable Code Blocks**\n",
        "\n",
        "A function is like a mini-program inside your program.\n",
        "It lets you group a set of instructions together and give it a name — so you can reuse it whenever you need.\n",
        "\n",
        "**Why Use Functions?**\n",
        "*  Avoid repeating code\n",
        "\n",
        "*  Keep your code neat and organized\n",
        "\n",
        "*  Make your programs easier to read and update\n",
        "\n",
        "*  Break big problems into smaller parts\n",
        "\n",
        "**Syntax:**\n",
        "\n",
        "\n",
        "```\n",
        "def my_function(inputs):\n",
        "    #TO DO\n",
        "\n",
        "    return something\n",
        "\n",
        "# To call the function -\n",
        "my_function(my_input)\n",
        "```\n",
        "\n",
        "**Task:**\n",
        "\n",
        "1.  Define a function that takes a name as input and greets the person.\n",
        "\n",
        "2.  Define a function that takes two integers as input and returns its sum."
      ],
      "metadata": {
        "id": "5VmF5C9MkrUs"
      }
    },
    {
      "cell_type": "code",
      "source": [
        "# Function that greets someone\n",
        "def greet(name):\n",
        "    print(\"Hello,\", name + \"!\")\n",
        "\n",
        "greet(\"Harry\")\n",
        "\n"
      ],
      "metadata": {
        "id": "BVi0EH5Jkqy4"
      },
      "execution_count": null,
      "outputs": []
    },
    {
      "cell_type": "code",
      "source": [
        "# Function that adds two numbers\n",
        "def add(a, b):\n",
        "    return a + b\n",
        "\n",
        "result = add(1,2)"
      ],
      "metadata": {
        "id": "rKu5_rQfBv-D"
      },
      "execution_count": 2,
      "outputs": []
    },
    {
      "cell_type": "markdown",
      "source": [
        "# Part 2: Mini Project - Student Marks and Grades"
      ],
      "metadata": {
        "id": "AWSGvI4dkzad"
      }
    },
    {
      "cell_type": "markdown",
      "source": [
        " Write a Python program to store and analyze the marks of 5 students across 5 subjects.\n",
        "\n",
        "\n",
        "\n",
        "*   Use a list to store the subject names\n",
        "*   Use a dictionary to store each student's marks\n",
        "\n",
        "*   Write a function to calculate grades based on scores\n",
        "*   Use loops to:\n",
        "    * Print each student's subject-wise marks and grades\n",
        "    *  Calculate and print their average marks and overall grade\n",
        "    *  Compute the class average for each subject\n",
        "\n",
        "\n",
        "\n"
      ],
      "metadata": {
        "id": "8mrOPQsnCVu3"
      }
    },
    {
      "cell_type": "code",
      "source": [
        "# Subjects\n",
        "subjects = [\"Math\", \"Science\", \"English\", \"History\", \"Computer\"]\n",
        "\n",
        "# Marks for 5 students in 5 subjects\n",
        "students = {\n",
        "    \"Alice\": [85, 90, 78, 92, 88],\n",
        "    \"Bob\": [72, 68, 75, 70, 80],\n",
        "    \"Cathy\": [90, 95, 85, 87, 93],\n",
        "    \"David\": [60, 65, 70, 58, 62],\n",
        "    \"Eva\": [78, 82, 80, 76, 84]\n",
        "}\n",
        "\n",
        "# Grade calculation function\n",
        "def get_grade(score):\n",
        "    if score >= 90:\n",
        "        return 'A+'\n",
        "    elif score >= 80:\n",
        "        return 'A'\n",
        "    elif score >= 70:\n",
        "        return 'B'\n",
        "    elif score >= 60:\n",
        "        return 'C'\n",
        "    else:\n",
        "        return 'D'\n",
        "\n",
        "# Process each student\n",
        "print(\"\\nStudent Report:\\n\")\n",
        "subject_totals = [0] * len(subjects)\n",
        "\n",
        "for name, marks in students.items():\n",
        "    print(f\"{name}\")\n",
        "    total = 0\n",
        "    for i in range(len(subjects)):\n",
        "        grade = get_grade(marks[i])\n",
        "        print(f\"  {subjects[i]}: {marks[i]} - Grade: {grade}\")\n",
        "        total += marks[i]\n",
        "        subject_totals[i] += marks[i]\n",
        "    avg = total / len(subjects)\n",
        "    overall_grade = get_grade(avg)\n",
        "    print(f\"  Average: {avg:.2f} - Overall Grade: {overall_grade}\\n\")\n",
        "\n",
        "# Class average per subject\n",
        "print(\"Class Average Per Subject:\")\n",
        "for i in range(len(subjects)):\n",
        "    avg = subject_totals[i] / len(students)\n",
        "    print(f\"  {subjects[i]}: {avg:.2f}\")\n"
      ],
      "metadata": {
        "id": "FDEm11FNk6oH"
      },
      "execution_count": null,
      "outputs": []
    },
    {
      "cell_type": "markdown",
      "source": [
        "**BONUS CHALLENGE: Two Sum Problem (Leetcode)**\n",
        "\n",
        "Given a list of integers nums and an integer target, return the indices of the two numbers in the list that add up to the target.\n",
        "\n",
        "You may assume that exactly one solution exists, and you cannot use the same element twice.\n",
        "\n",
        "You can return the answer in any order.\n",
        "\n",
        "Example:\n",
        "\n",
        "\n",
        "```\n",
        "Input: nums = [2, 7, 11, 15], target = 9  \n",
        "Output: [0, 1]\n",
        "#Explanation: nums[0] + nums[1] = 2 + 7 = 9\n",
        "\n",
        "Input: nums = [3, 2, 4], target = 6  \n",
        "Output: [1, 2]\n",
        "```\n",
        "\n"
      ],
      "metadata": {
        "id": "a0YHJiI5ebo9"
      }
    },
    {
      "cell_type": "code",
      "source": [],
      "metadata": {
        "id": "CX_NMO-ReDKd"
      },
      "execution_count": null,
      "outputs": []
    },
    {
      "cell_type": "markdown",
      "source": [
        "#Part 3: Pandas, Data Visulaization"
      ],
      "metadata": {
        "id": "pNVdiSTIlVPe"
      }
    },
    {
      "cell_type": "markdown",
      "source": [
        "In this exercise, you'll get familiar with Pandas, one of Python's most powerful libraries for handling data.\n",
        "\n",
        "Pandas makes it easy to store, explore, and analyze tabular data, just like working with a spreadsheet, but in code!\n",
        "\n",
        "We'll use a **DataFrame** (like a table) to store students' marks and perform operations like calculating averages, assigning grades, and visualizing the data.\n",
        "\n",
        "Let’s dive in and see how Python helps us make sense of data!"
      ],
      "metadata": {
        "id": "dS4GV9EUL2OE"
      }
    },
    {
      "cell_type": "code",
      "source": [
        "import pandas as pd\n",
        "\n",
        "# Student data dictionary\n",
        "students_data = {\n",
        "    \"Name\": [\"Alice\", \"Bob\", \"Cathy\", \"David\", \"Eva\", \"Jan\"],\n",
        "    \"Math\": [85, 72, 90, 60, 78,25],\n",
        "    \"Science\": [90, 68, 95, 65, 82,52],\n",
        "    \"English\": [78, 75, 85, 70, 80,75],\n",
        "    \"History\": [92, 70, 87, 58, 76,80],\n",
        "    \"Computer\": [88, 80, 93, 62, 84,90]\n",
        "}\n",
        "\n",
        "# turn the students_data dictionary into a DataFrame\n",
        "df = pd.DataFrame(students_data)\n"
      ],
      "metadata": {
        "id": "UKokgNmqljH6"
      },
      "execution_count": null,
      "outputs": []
    },
    {
      "cell_type": "code",
      "source": [
        "df.head() # prints first 5 rows in the table"
      ],
      "metadata": {
        "id": "5zJxBdmv4EF1"
      },
      "execution_count": null,
      "outputs": []
    },
    {
      "cell_type": "markdown",
      "source": [
        "Now, let us create a new column \"Average\" which will contain the average marks scored by each student.\n",
        "\n",
        "To create a new column in the DataFrame df:\n",
        "\n",
        "    df[\"new_column\"] = values\n",
        "\n",
        "To find the average across columns:\n",
        "\n",
        "    average = df[[\"col1\", \"col2\", \"col3\",....]].mean(axis=1)\n",
        "\n",
        "To use a function to assign values in a column for each row,\n",
        "\n",
        "    df[\"new_colum\"] = df[\"Existing_column(s)\"].apply(function_to_assign_values)"
      ],
      "metadata": {
        "id": "d5mgRc27OGeH"
      }
    },
    {
      "cell_type": "code",
      "source": [
        "# Calculate average marks\n",
        "df[\"Average\"] = df[[\"Math\", \"Science\", \"English\", \"History\", \"Computer\"]].mean(axis=1)\n",
        "\n",
        "# Assign grades\n",
        "df[\"Grade\"] = df[\"Average\"].apply(get_grade)\n",
        "\n",
        "# Display DataFrame\n",
        "print(df)\n"
      ],
      "metadata": {
        "id": "0hAj-__XlkJz"
      },
      "execution_count": null,
      "outputs": []
    },
    {
      "cell_type": "markdown",
      "source": [
        "**MatPlotLib - for Plotting and Visualizing Data**\n",
        "\n",
        "Matplotlib is a powerful library in Python for creating charts and visualizations.\n",
        "\n",
        "When working with Pandas DataFrames, you can easily create plots like bar charts, line graphs, and pie charts using just a single line of code!\n",
        "\n",
        "Pandas has built-in support for Matplotlib, so you can call .plot() directly on a DataFrame or Series to visualize the data.\n",
        "\n",
        "Import it like this:\n",
        "\n",
        "`import matplotlib.pyplot as plt`"
      ],
      "metadata": {
        "id": "aTtgqAqgUJcy"
      }
    },
    {
      "cell_type": "code",
      "source": [
        "import matplotlib.pyplot as plt"
      ],
      "metadata": {
        "id": "Av44ZXoflsJP"
      },
      "execution_count": null,
      "outputs": []
    },
    {
      "cell_type": "code",
      "source": [
        "# 1. Bar Chart – Student-wise average\n",
        "plt.figure(figsize=(8, 5))\n",
        "plt.bar(df[\"Name\"], df[\"Average\"], color='skyblue')\n",
        "plt.title(\"Average Marks of Each Student\")\n",
        "plt.xlabel(\"Student\")\n",
        "plt.ylabel(\"Average Marks\")\n",
        "plt.ylim(0, 100)\n",
        "plt.grid(axis='y')\n",
        "plt.show()\n",
        "\n"
      ],
      "metadata": {
        "id": "YqZANSjWUjZs"
      },
      "execution_count": null,
      "outputs": []
    },
    {
      "cell_type": "code",
      "source": [
        "# 2. Pie Chart – One student's marks\n",
        "plt.figure(figsize=(6, 6))\n",
        "plt.pie(df.loc[0, [\"Math\", \"Science\", \"English\", \"History\", \"Computer\"]],\n",
        "        labels=[\"Math\", \"Science\", \"English\", \"History\", \"Computer\"],\n",
        "        autopct=\"%1.1f%%\", startangle=140)\n",
        "plt.title(f\"{df.loc[0, 'Name']}'s Subject-wise Marks\")\n",
        "plt.show()\n",
        "\n"
      ],
      "metadata": {
        "id": "Jp-aVsbEUnqn"
      },
      "execution_count": null,
      "outputs": []
    },
    {
      "cell_type": "code",
      "source": [
        "# 3. Line Plot – Subject-wise trend for each student\n",
        "plt.figure(figsize=(10, 6))\n",
        "subjects = [\"Math\", \"Science\", \"English\", \"History\", \"Computer\"]\n",
        "for i in range(len(df)):\n",
        "    plt.plot(subjects, df.loc[i, subjects], marker='o', label=df.loc[i, \"Name\"])\n",
        "plt.title(\"Subject-wise Performance of Students\")\n",
        "plt.xlabel(\"Subjects\")\n",
        "plt.ylabel(\"Marks\")\n",
        "plt.ylim(0, 100)\n",
        "plt.legend()\n",
        "plt.grid(True)\n",
        "plt.show()\n",
        "\n"
      ],
      "metadata": {
        "id": "DgOlCPJtUpfF"
      },
      "execution_count": null,
      "outputs": []
    },
    {
      "cell_type": "code",
      "source": [
        "# 4. Bar Chart – Subject-wise average\n",
        "plt.figure(figsize=(8, 5))\n",
        "df[subjects].mean().plot(kind=\"bar\", color='salmon')\n",
        "plt.title(\"Average Marks per Subject\")\n",
        "plt.ylabel(\"Average Marks\")\n",
        "plt.xticks(rotation=45)\n",
        "plt.grid(axis='y')\n",
        "plt.show()\n",
        "\n"
      ],
      "metadata": {
        "id": "o4rOx3yQUrPC"
      },
      "execution_count": null,
      "outputs": []
    },
    {
      "cell_type": "code",
      "source": [
        "# 5. Boxplot – Subject marks distribution\n",
        "plt.figure(figsize=(10, 6))\n",
        "df[subjects].plot(kind='box')\n",
        "plt.title(\"Boxplot of Subject-wise Marks\")\n",
        "plt.ylabel(\"Marks\")\n",
        "plt.grid(True)\n",
        "plt.show()"
      ],
      "metadata": {
        "id": "WMNth9tzUs9_"
      },
      "execution_count": null,
      "outputs": []
    }
  ]
}