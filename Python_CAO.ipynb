{
  "nbformat": 4,
  "nbformat_minor": 0,
  "metadata": {
    "colab": {
      "provenance": [],
      "include_colab_link": true
    },
    "kernelspec": {
      "name": "python3",
      "display_name": "Python 3"
    },
    "language_info": {
      "name": "python"
    }
  },
  "cells": [
    {
      "cell_type": "markdown",
      "metadata": {
        "id": "view-in-github",
        "colab_type": "text"
      },
      "source": [
        "<a href=\"https://colab.research.google.com/github/thendralbala/cao_python_workshop/blob/main/Python_CAO.ipynb\" target=\"_parent\"><img src=\"https://colab.research.google.com/assets/colab-badge.svg\" alt=\"Open In Colab\"/></a>"
      ]
    },
    {
      "cell_type": "markdown",
      "source": [
        "#Part 1: Python Basics"
      ],
      "metadata": {
        "id": "WIeWcxh2lNpf"
      }
    },
    {
      "cell_type": "markdown",
      "source": [
        "**1. Your First Python Program - Hello, World!**\n",
        "\n",
        "*  In Python, we use the print() function to display a message.\n",
        "\n",
        "*  Functions are verbs or actions that the computer will already know how to perform.\n",
        "\n",
        "*  The print() function knows how to print something on the screen.\n",
        "\n",
        "*  Let's try it out printing \"Hello, World!\" - the traditional first program in any language!\n"
      ],
      "metadata": {
        "id": "6L-kpo-FhE-1"
      }
    },
    {
      "cell_type": "code",
      "execution_count": null,
      "metadata": {
        "colab": {
          "base_uri": "https://localhost:8080/"
        },
        "id": "etVhzZ8FhELW",
        "outputId": "086fc7b2-6f36-4d36-ea1d-d757533167bd"
      },
      "outputs": [
        {
          "output_type": "stream",
          "name": "stdout",
          "text": [
            "Hello, World!\n"
          ]
        }
      ],
      "source": [
        "print(\"Hello, World!\")"
      ]
    },
    {
      "cell_type": "markdown",
      "source": [
        "**input() function**\n",
        "\n",
        "*  The input() function allows you to get input from the user, and it can take a prompt as an argument."
      ],
      "metadata": {
        "id": "P8gCcqKQ5IB1"
      }
    },
    {
      "cell_type": "code",
      "source": [
        "input(\"What is your name?\")"
      ],
      "metadata": {
        "colab": {
          "base_uri": "https://localhost:8080/",
          "height": 53
        },
        "id": "LfFcsH9UplpZ",
        "outputId": "2c7fc00f-43a0-4059-f883-41ffa9dea972"
      },
      "execution_count": 1,
      "outputs": [
        {
          "name": "stdout",
          "output_type": "stream",
          "text": [
            "What is your name?Thendral\n"
          ]
        },
        {
          "output_type": "execute_result",
          "data": {
            "text/plain": [
              "'Thendral'"
            ],
            "application/vnd.google.colaboratory.intrinsic+json": {
              "type": "string"
            }
          },
          "metadata": {},
          "execution_count": 1
        }
      ]
    },
    {
      "cell_type": "markdown",
      "source": [
        "**2. Variables**\n",
        "\n",
        "\n",
        "In Python, a variable is like a container that stores information. You can give this container a name, and then use it to hold different types of data — like a name, age, height, or even True/False values.\n",
        "\n",
        "Common Data Types in Python: str, int, float, bool\n",
        "\n",
        "*  Now, let us store the user input in a container (i.e. variable) called `name`"
      ],
      "metadata": {
        "id": "kTTLWktQ5v1Y"
      }
    },
    {
      "cell_type": "code",
      "source": [
        "name = input(\"What is your name?\")\n",
        "print(f\"Welcome, {name}\")"
      ],
      "metadata": {
        "colab": {
          "base_uri": "https://localhost:8080/"
        },
        "id": "0PmEo6fX5l0A",
        "outputId": "dbd3b600-0fce-4a57-e0f3-9feffda59b58"
      },
      "execution_count": 6,
      "outputs": [
        {
          "output_type": "stream",
          "name": "stdout",
          "text": [
            "What is your name?Thendral\n",
            "Welcome, Thendral\n"
          ]
        }
      ]
    },
    {
      "cell_type": "markdown",
      "source": [
        "**2.1 Data Types**\n",
        "\n",
        "The Data type of a variable represents what kind f data is being stored in it - text, number, True/False\n",
        "\n",
        "To check data type of a variable, use `type(variable_name)`"
      ],
      "metadata": {
        "id": "ctUH_qi56xiM"
      }
    },
    {
      "cell_type": "code",
      "source": [
        "student_number = 2412802\n",
        "student_qca = 3.6\n",
        "is_present = True\n",
        "\n",
        "print(f\"Name: {name}, Type:{type(name)}\")\n",
        "print(f\"Student Number: {student_number}, Type: {type(student_number)}\")\n",
        "print(f\"Student QCA: {student_qca}, Type: {type(student_qca)}\")\n",
        "print(f\"Is Present: {is_present}, Type: {type(is_present)}\")\n",
        "\n"
      ],
      "metadata": {
        "colab": {
          "base_uri": "https://localhost:8080/"
        },
        "id": "vBJ8SXaf7g6X",
        "outputId": "d1b4da65-2bf1-4d09-fe43-b94f3ef0d6f9"
      },
      "execution_count": 8,
      "outputs": [
        {
          "output_type": "stream",
          "name": "stdout",
          "text": [
            "Name: Thendral, Type:<class 'str'>\n",
            "Student Number: 2412802, Type: <class 'int'>\n",
            "Student QCA: 3.6, Type: <class 'float'>\n",
            "Is Present: True, Type: <class 'bool'>\n"
          ]
        }
      ]
    },
    {
      "cell_type": "markdown",
      "source": [
        "**Task:**\n",
        "\n",
        "*  Create a variable to store the value of age, get the value from the user using the input() function.\n",
        "\n",
        "*  Print the data type of the age variable"
      ],
      "metadata": {
        "id": "CdjzF3b-xvta"
      }
    },
    {
      "cell_type": "code",
      "source": [
        "age = input(\"How old are you?\")\n",
        "\n",
        "print(age)\n",
        "print(type(age))\n"
      ],
      "metadata": {
        "id": "iyoADutwJlg6"
      },
      "execution_count": null,
      "outputs": []
    },
    {
      "cell_type": "code",
      "source": [
        "age=int(input(\"How old are you?\"))\n",
        "\n",
        "print(age)\n",
        "print(type(age))"
      ],
      "metadata": {
        "id": "14vdbzd_Jnm5"
      },
      "execution_count": null,
      "outputs": []
    },
    {
      "cell_type": "markdown",
      "source": [
        "**3. Loops - Repeat Tasks Easily**\n",
        "\n",
        "**Task:** Print \"Meow\"\n",
        "\n",
        "*   once\n",
        "*   thrice\n",
        "*   10x\n",
        "\n"
      ],
      "metadata": {
        "id": "g8YA4CEIkQ7K"
      }
    },
    {
      "cell_type": "code",
      "source": [
        "print(\"Meow\")"
      ],
      "metadata": {
        "colab": {
          "base_uri": "https://localhost:8080/"
        },
        "id": "HSS5QMhBj-9E",
        "outputId": "d84f431f-1d11-4f5d-b42c-fce4645aefe1"
      },
      "execution_count": 9,
      "outputs": [
        {
          "output_type": "stream",
          "name": "stdout",
          "text": [
            "Meow\n"
          ]
        }
      ]
    },
    {
      "cell_type": "code",
      "source": [
        "print(\"Meow\")\n",
        "print(\"Meow\")\n",
        "print(\"Meow\")\n",
        "\n",
        "# DO NOT REPEAT YOURSELF!!"
      ],
      "metadata": {
        "colab": {
          "base_uri": "https://localhost:8080/"
        },
        "id": "yJR9ds6L9jdr",
        "outputId": "0364e36e-6878-45c9-ffce-3258a2a7dbf2"
      },
      "execution_count": 10,
      "outputs": [
        {
          "output_type": "stream",
          "name": "stdout",
          "text": [
            "Meow\n",
            "Meow\n",
            "Meow\n"
          ]
        }
      ]
    },
    {
      "cell_type": "code",
      "source": [
        "for number in range(100):\n",
        "  print(\"Meow\")"
      ],
      "metadata": {
        "colab": {
          "base_uri": "https://localhost:8080/"
        },
        "collapsed": true,
        "id": "xX8gkjsc_RyG",
        "outputId": "81ab8de2-8475-4e71-a503-af09213bfbcf"
      },
      "execution_count": 13,
      "outputs": [
        {
          "output_type": "stream",
          "name": "stdout",
          "text": [
            "Meow\n",
            "Meow\n",
            "Meow\n",
            "Meow\n",
            "Meow\n",
            "Meow\n",
            "Meow\n",
            "Meow\n",
            "Meow\n",
            "Meow\n",
            "Meow\n",
            "Meow\n",
            "Meow\n",
            "Meow\n",
            "Meow\n",
            "Meow\n",
            "Meow\n",
            "Meow\n",
            "Meow\n",
            "Meow\n",
            "Meow\n",
            "Meow\n",
            "Meow\n",
            "Meow\n",
            "Meow\n",
            "Meow\n",
            "Meow\n",
            "Meow\n",
            "Meow\n",
            "Meow\n",
            "Meow\n",
            "Meow\n",
            "Meow\n",
            "Meow\n",
            "Meow\n",
            "Meow\n",
            "Meow\n",
            "Meow\n",
            "Meow\n",
            "Meow\n",
            "Meow\n",
            "Meow\n",
            "Meow\n",
            "Meow\n",
            "Meow\n",
            "Meow\n",
            "Meow\n",
            "Meow\n",
            "Meow\n",
            "Meow\n",
            "Meow\n",
            "Meow\n",
            "Meow\n",
            "Meow\n",
            "Meow\n",
            "Meow\n",
            "Meow\n",
            "Meow\n",
            "Meow\n",
            "Meow\n",
            "Meow\n",
            "Meow\n",
            "Meow\n",
            "Meow\n",
            "Meow\n",
            "Meow\n",
            "Meow\n",
            "Meow\n",
            "Meow\n",
            "Meow\n",
            "Meow\n",
            "Meow\n",
            "Meow\n",
            "Meow\n",
            "Meow\n",
            "Meow\n",
            "Meow\n",
            "Meow\n",
            "Meow\n",
            "Meow\n",
            "Meow\n",
            "Meow\n",
            "Meow\n",
            "Meow\n",
            "Meow\n",
            "Meow\n",
            "Meow\n",
            "Meow\n",
            "Meow\n",
            "Meow\n",
            "Meow\n",
            "Meow\n",
            "Meow\n",
            "Meow\n",
            "Meow\n",
            "Meow\n",
            "Meow\n",
            "Meow\n",
            "Meow\n",
            "Meow\n"
          ]
        }
      ]
    },
    {
      "cell_type": "markdown",
      "source": [
        "A for loop is used to repeat a block of code multiple times.\n",
        "\n",
        "It's like telling the computer:\n",
        "\"Hey, do this again and again... for a certain number of times or for every item in a list!\"\n",
        "\n",
        "\n",
        "\n",
        "**Syntax:**\n",
        "```\n",
        "for variable in iterable:\n",
        "    # code block (indented)\n",
        "```\n",
        "**Components:**\n",
        "*  `for` is the keyword that starts the loop\n",
        "*  `variable` is a placeholder that takes the value of wach item in tthe `iterable`, one at a time.\n",
        "*  `in`  is the keyword that connects the variable to the iterable\n",
        "*  `iterable` is a collection of items you want to loop through, like a range of numbers or a list of names\n",
        "*  `:` ends the loop declaration line and signals that a block of code will follow which should be run once for each item in the iterable.\n"
      ],
      "metadata": {
        "id": "WudOvoKU-Ph6"
      }
    },
    {
      "cell_type": "markdown",
      "source": [
        "**Task:**\n",
        "*  Find the sum of the arithmetic progression 1,2,3,4,.........,100 using for loop\n",
        "\n",
        "* Find the sum of the arithmetic progression 2,4,6,8,............,100 using for loop"
      ],
      "metadata": {
        "id": "9DKFRXoeKQ5P"
      }
    },
    {
      "cell_type": "code",
      "source": [
        "sum1 = 0\n",
        "\n",
        "for number in range(1, 101):\n",
        "  sum1 = sum1 + number\n",
        "\n",
        "print(sum1)"
      ],
      "metadata": {
        "colab": {
          "base_uri": "https://localhost:8080/"
        },
        "id": "z5Rx-jHQylJt",
        "outputId": "f7df00e8-fd39-46fa-f25f-509e434e142c"
      },
      "execution_count": 1,
      "outputs": [
        {
          "output_type": "stream",
          "name": "stdout",
          "text": [
            "5050\n"
          ]
        }
      ]
    },
    {
      "cell_type": "code",
      "source": [
        "sum2 = 0\n",
        "\n",
        "for number in range(2, 101, 2):\n",
        "  sum2 = sum2 + number\n",
        "\n",
        "print(sum2)"
      ],
      "metadata": {
        "colab": {
          "base_uri": "https://localhost:8080/"
        },
        "id": "7bOSAVmOyqJ3",
        "outputId": "9d684a10-e65a-4597-9de2-ef9151d82750"
      },
      "execution_count": 2,
      "outputs": [
        {
          "output_type": "stream",
          "name": "stdout",
          "text": [
            "2550\n"
          ]
        }
      ]
    },
    {
      "cell_type": "markdown",
      "source": [
        "**Using a list of items as the iterable**\n",
        "\n",
        "*  Create a list of names\n",
        "*  Greet each person in the list.\n",
        "\n",
        "      example:\n",
        "           Hello, Harry\n",
        "           Hello, Ron\n",
        "           Hello, Hermione"
      ],
      "metadata": {
        "id": "osmUWucKzE4Z"
      }
    },
    {
      "cell_type": "code",
      "source": [
        "names = [\"Harry\", \"Hermione\",\"Ron\"]\n",
        "\n",
        "for name in names:\n",
        "  print(f\"Hello, {name}\")"
      ],
      "metadata": {
        "colab": {
          "base_uri": "https://localhost:8080/"
        },
        "id": "PsyXbz1t9n5S",
        "outputId": "fecfbfed-8587-4089-cd7c-ef60c51126bf"
      },
      "execution_count": 1,
      "outputs": [
        {
          "output_type": "stream",
          "name": "stdout",
          "text": [
            "Hello, Harry\n",
            "Hello, Hermione\n",
            "Hello, Ron\n"
          ]
        }
      ]
    },
    {
      "cell_type": "markdown",
      "source": [
        "**4. Lists - Store Multiple Values in One Place**\n",
        "\n",
        "In Python, a list is used to store multiple values in a single variable.\n",
        "You can think of it like a row of boxes, each holding an item — like a shopping list or a list of scores.\n",
        "\n",
        "**Key Features of Lists**\n",
        "*    Lists are written using square brackets\n",
        "\n",
        "\n",
        "```\n",
        "my_list = [\"item1\", \"item2\", \"item3\"]\n",
        "```\n",
        "*    You can store strings, numbers, or even mix them\n",
        "\n",
        "\n",
        "\n",
        "```\n",
        "names = [\"Harry\", \"Hermione\", \"Ron\"]\n",
        "scores = [75, 95, 72]\n",
        "```\n",
        "\n",
        "*    Each item in a list has a position called an index, and it starts from 0\n",
        "\n",
        "      names[0] = \"Harry\"\n",
        "\n",
        "      names[1] = \"Hermione\"\n",
        "\n",
        "      names[2] = \"Ron\"\n",
        "\n",
        "\n",
        "**Task:**\n",
        "\n",
        "*  Create a list of marks scored by a student in 5 different subjects\n",
        "*  Find the average score and print it\n",
        "*  If average score is above 80, print \"A1\", else print \"Not A1\""
      ],
      "metadata": {
        "id": "C3vj8WkjBFpL"
      }
    },
    {
      "cell_type": "code",
      "source": [
        "marks = [95,70,50,72,85]\n",
        "\n",
        "average = sum(marks)/len(marks)\n",
        "\n",
        "if average > 80:\n",
        "  print(\"A1\")\n",
        "else:\n",
        "  print(\"Not A1\")"
      ],
      "metadata": {
        "id": "ZhYOFfDUCS7n"
      },
      "execution_count": null,
      "outputs": []
    },
    {
      "cell_type": "markdown",
      "source": [
        "**5. Conditionals**\n",
        "\n",
        "A conditional in Python is a way to make decisions in your code.\n",
        "\n",
        "It lets the program check if something is true, and then run specific code based on that.\n",
        "\n",
        "**Basic Syntax:**\n",
        "\n",
        "\n",
        "```\n",
        "if condition:\n",
        "  # code to execute if condition is True\n",
        "else:\n",
        "  # code to execute if condition is False\n",
        "```\n",
        "\n",
        "\n"
      ],
      "metadata": {
        "id": "ETFBZGKg1QeZ"
      }
    },
    {
      "cell_type": "code",
      "source": [
        "age = 20\n",
        "\n",
        "if age>=18:\n",
        "  print(\"You can vote\")\n",
        "else:\n",
        "  print(\"You cannot vote\")"
      ],
      "metadata": {
        "colab": {
          "base_uri": "https://localhost:8080/"
        },
        "id": "AaqmtYme2OH4",
        "outputId": "346d93eb-7b89-41e3-c565-83031f8a65fe"
      },
      "execution_count": 3,
      "outputs": [
        {
          "output_type": "stream",
          "name": "stdout",
          "text": [
            "You can vote\n"
          ]
        }
      ]
    },
    {
      "cell_type": "markdown",
      "source": [
        "**if, elif & else**\n",
        "\n",
        "\n",
        "\n",
        "```\n",
        "if condition_1:\n",
        "  # code to execute if condition_1 is True\n",
        "elif condition_2:\n",
        "  # code to execute if condition_1 is False and condition_2 is True\n",
        "elif condition_3:\n",
        "  # code to execute if condition_1, condition_2 are False and condition_3 is True\n",
        "else:\n",
        "  # code to execute if all the above conditions are False\n",
        "```\n",
        "\n",
        "**Task:**\n",
        "*  Write a Python program that takes a student's mark and prints the grade based on the following rules:\n",
        "    * 90 and above -> A\n",
        "    * 80-89 -> B\n",
        "    * 70-79 -> C\n",
        "    * 60-69 -> D\n",
        "    * Below 60 -> F\n"
      ],
      "metadata": {
        "id": "anfYpC_d2VLU"
      }
    },
    {
      "cell_type": "code",
      "source": [
        "mark = 85\n",
        "\n",
        "if mark >= 90:\n",
        "  print(\"A\")\n",
        "elif mark >= 80:\n",
        "  print(\"B\")\n",
        "elif mark >= 70:\n",
        "  print(\"C\")\n",
        "elif mark >= 60:\n",
        "  print(\"D\")\n",
        "else:\n",
        "  print(\"F\")"
      ],
      "metadata": {
        "colab": {
          "base_uri": "https://localhost:8080/"
        },
        "id": "OYU_3Ra02Tnj",
        "outputId": "cfe6dc67-6759-47b4-da0f-45f1145055fc"
      },
      "execution_count": 4,
      "outputs": [
        {
          "output_type": "stream",
          "name": "stdout",
          "text": [
            "B\n"
          ]
        }
      ]
    },
    {
      "cell_type": "markdown",
      "source": [
        "**5. Math Operations**\n",
        "\n",
        "In Python, you can easily perform basic arithmetic operations using symbols like +, -, *, and /.\n",
        "\n",
        "**Task:** Create two variables a = 10 and b = 3. Perform the following mathematical operations -\n",
        "\n",
        "\n",
        "\n",
        "*   Addition\n",
        "*   Subtraction\n",
        "*   Multiplication\n",
        "*   Division\n",
        "*   Power\n",
        "*   Remainder a.k.a modulo operator\n",
        "\n",
        "\n"
      ],
      "metadata": {
        "id": "HuWBVoplkVwW"
      }
    },
    {
      "cell_type": "code",
      "source": [
        "a = 10\n",
        "b = 3\n",
        "\n",
        "print(\"Addition:\", a + b)\n",
        "print(\"Subtraction:\", a - b)\n",
        "print(\"Multiplication:\", a * b)\n",
        "print(\"Division:\", a / b)\n",
        "print(\"Power:\", a ** b)\n",
        "print(\"Remainder:\", a % b)"
      ],
      "metadata": {
        "id": "X8lEQd9WkOhF"
      },
      "execution_count": null,
      "outputs": []
    },
    {
      "cell_type": "markdown",
      "source": [
        "**6. Dictionaries - Store Data with Labels**\n",
        "\n",
        "In Python, a dictionary is a way to store related information using key-value pairs.\n",
        "\n",
        "*  Think of it like a real dictionary:\n",
        "\n",
        "*  You look up a word (key)\n",
        "\n",
        "*  You get its definition (value)\n",
        "\n",
        "**Why use Dictionaries?**\n",
        "\n",
        "*  Great for storing structured data\n",
        "\n",
        "*  Easy to look up values using meaningful keys\n",
        "\n",
        "*  Each key is unique, and each key maps to a value\n",
        "\n",
        "**Syntax:**\n",
        "\n",
        "\n",
        "```\n",
        "my_dictionary = {\n",
        "    \"key_1\": \"value_1\",\n",
        "    \"key_2\": \"value_2\",\n",
        "    \"key_3\": \"value_3\"\n",
        "}\n",
        "\n",
        "# You can access values like this:\n",
        "print(my_dictionary[\"key_1\"])   # Output: value_1\n",
        "\n",
        "```\n",
        "\n",
        "**Task:**\n",
        "\n",
        " Create a dictionary that stores a student's information like name, age and grade. Use a for loop to print each key-value pair."
      ],
      "metadata": {
        "id": "1HlohQQjki3p"
      }
    },
    {
      "cell_type": "code",
      "source": [
        "student = {\n",
        "    \"name\": \"Harry\",\n",
        "    \"age\": 11,\n",
        "    \"grade\": \"C\"\n",
        "}\n",
        "\n",
        "print(student[\"name\"])  # Harry\n",
        "\n",
        "# Loop through dictionary\n",
        "for key in student:\n",
        "    print(key, \":\", student[key])"
      ],
      "metadata": {
        "id": "AT6J04H4kgD8",
        "colab": {
          "base_uri": "https://localhost:8080/"
        },
        "outputId": "5d7209b9-69b6-4b0d-e989-2b9d760c73cc"
      },
      "execution_count": 2,
      "outputs": [
        {
          "output_type": "stream",
          "name": "stdout",
          "text": [
            "Harry\n",
            "name : Harry\n",
            "age : 11\n",
            "grade : C\n"
          ]
        }
      ]
    },
    {
      "cell_type": "markdown",
      "source": [
        "**7. Functions - Reusable Code Blocks**\n",
        "\n",
        "A function is like a mini-program inside your program.\n",
        "It lets you group a set of instructions together and give it a name — so you can reuse it whenever you need.\n",
        "\n",
        "**Why Use Functions?**\n",
        "*  Avoid repeating code\n",
        "\n",
        "*  Keep your code neat and organized\n",
        "\n",
        "*  Make your programs easier to read and update\n",
        "\n",
        "*  Break big problems into smaller parts\n",
        "\n",
        "**Syntax:**\n",
        "\n",
        "\n",
        "```\n",
        "def my_function(inputs):\n",
        "    #TO DO\n",
        "\n",
        "    return something\n",
        "\n",
        "# To call the function -\n",
        "my_function(my_input)\n",
        "```\n",
        "\n",
        "**Task:**\n",
        "\n",
        "1.  Define a function that takes a name as input and greets the person.\n",
        "\n",
        "2.  Define a function that takes two integers as input and returns its sum."
      ],
      "metadata": {
        "id": "5VmF5C9MkrUs"
      }
    },
    {
      "cell_type": "code",
      "source": [
        "def greet(name):\n",
        "    print(\"Hello,\", name + \"!\")\n",
        "\n",
        "greet(\"Harry\")\n",
        "\n"
      ],
      "metadata": {
        "id": "BVi0EH5Jkqy4",
        "colab": {
          "base_uri": "https://localhost:8080/"
        },
        "outputId": "189b0ed9-ec3f-400a-d598-464af6883954"
      },
      "execution_count": 4,
      "outputs": [
        {
          "output_type": "stream",
          "name": "stdout",
          "text": [
            "Hello, Harry!\n"
          ]
        }
      ]
    },
    {
      "cell_type": "code",
      "source": [
        "# Function that adds two numbers\n",
        "def add(a, b):\n",
        "    return a + b\n",
        "\n",
        "print(\"Sum:\", add(5, 7))"
      ],
      "metadata": {
        "colab": {
          "base_uri": "https://localhost:8080/"
        },
        "id": "rKu5_rQfBv-D",
        "outputId": "a3ac5792-598e-45eb-ab6e-3ff3e66e9dcd"
      },
      "execution_count": 5,
      "outputs": [
        {
          "output_type": "stream",
          "name": "stdout",
          "text": [
            "Sum: 12\n"
          ]
        }
      ]
    },
    {
      "cell_type": "markdown",
      "source": [
        "# Part 2: Mini Project - Student Marks and Grades"
      ],
      "metadata": {
        "id": "AWSGvI4dkzad"
      }
    },
    {
      "cell_type": "markdown",
      "source": [
        " Write a Python program to store and analyze the marks of 5 students across 5 subjects.\n",
        "\n",
        "\n",
        "\n",
        "*   Use a list to store the subject names\n",
        "*   Use a dictionary to store each student's marks\n",
        "\n",
        "*   Write a function to calculate grades based on scores\n",
        "*   Use loops to:\n",
        "    * Print each student's subject-wise marks and grades\n",
        "    *  Calculate and print their average marks and overall grade\n",
        "    *  Compute the class average for each subject\n",
        "\n",
        "\n",
        "\n"
      ],
      "metadata": {
        "id": "8mrOPQsnCVu3"
      }
    },
    {
      "cell_type": "code",
      "source": [
        "# Subjects\n",
        "subjects = [\"Math\", \"Science\", \"English\", \"History\", \"Computer\"]\n",
        "\n",
        "# Marks for 5 students in 5 subjects\n",
        "students = {\n",
        "    \"Alice\": [85, 90, 78, 92, 88],\n",
        "    \"Bob\": [72, 68, 75, 70, 80],\n",
        "    \"Cathy\": [90, 95, 85, 87, 93],\n",
        "    \"David\": [60, 65, 70, 58, 62],\n",
        "    \"Eva\": [78, 82, 80, 76, 84]\n",
        "}\n",
        "\n",
        "# Grade calculation function\n",
        "def get_grade(score):\n",
        "    if score >= 90:\n",
        "        return 'A+'\n",
        "    elif score >= 80:\n",
        "        return 'A'\n",
        "    elif score >= 70:\n",
        "        return 'B'\n",
        "    elif score >= 60:\n",
        "        return 'C'\n",
        "    else:\n",
        "        return 'D'\n",
        "\n",
        "# Process each student\n",
        "print(\"\\nStudent Report:\\n\")\n",
        "subject_totals = [0] * len(subjects)\n",
        "\n",
        "for name, marks in students.items():\n",
        "    print(f\"{name}\")\n",
        "    total = 0\n",
        "    for i in range(len(subjects)):\n",
        "        grade = get_grade(marks[i])\n",
        "        print(f\"  {subjects[i]}: {marks[i]} - Grade: {grade}\")\n",
        "        total += marks[i]\n",
        "        subject_totals[i] += marks[i]\n",
        "    avg = total / len(subjects)\n",
        "    overall_grade = get_grade(avg)\n",
        "    print(f\"  Average: {avg:.2f} - Overall Grade: {overall_grade}\\n\")\n",
        "\n",
        "# Class average per subject\n",
        "print(\"Class Average Per Subject:\")\n",
        "for i in range(len(subjects)):\n",
        "    avg = subject_totals[i] / len(students)\n",
        "    print(f\"  {subjects[i]}: {avg:.2f}\")\n"
      ],
      "metadata": {
        "colab": {
          "base_uri": "https://localhost:8080/"
        },
        "id": "FDEm11FNk6oH",
        "outputId": "1a2dc933-e980-48fc-f3a1-eb927129c5dc"
      },
      "execution_count": 7,
      "outputs": [
        {
          "output_type": "stream",
          "name": "stdout",
          "text": [
            "\n",
            "Student Report:\n",
            "\n",
            "Alice\n",
            "  Math: 85 - Grade: A\n",
            "  Science: 90 - Grade: A+\n",
            "  English: 78 - Grade: B\n",
            "  History: 92 - Grade: A+\n",
            "  Computer: 88 - Grade: A\n",
            "  Average: 86.60 - Overall Grade: A\n",
            "\n",
            "Bob\n",
            "  Math: 72 - Grade: B\n",
            "  Science: 68 - Grade: C\n",
            "  English: 75 - Grade: B\n",
            "  History: 70 - Grade: B\n",
            "  Computer: 80 - Grade: A\n",
            "  Average: 73.00 - Overall Grade: B\n",
            "\n",
            "Cathy\n",
            "  Math: 90 - Grade: A+\n",
            "  Science: 95 - Grade: A+\n",
            "  English: 85 - Grade: A\n",
            "  History: 87 - Grade: A\n",
            "  Computer: 93 - Grade: A+\n",
            "  Average: 90.00 - Overall Grade: A+\n",
            "\n",
            "David\n",
            "  Math: 60 - Grade: C\n",
            "  Science: 65 - Grade: C\n",
            "  English: 70 - Grade: B\n",
            "  History: 58 - Grade: D\n",
            "  Computer: 62 - Grade: C\n",
            "  Average: 63.00 - Overall Grade: C\n",
            "\n",
            "Eva\n",
            "  Math: 78 - Grade: B\n",
            "  Science: 82 - Grade: A\n",
            "  English: 80 - Grade: A\n",
            "  History: 76 - Grade: B\n",
            "  Computer: 84 - Grade: A\n",
            "  Average: 80.00 - Overall Grade: A\n",
            "\n",
            "Class Average Per Subject:\n",
            "  Math: 77.00\n",
            "  Science: 80.00\n",
            "  English: 77.60\n",
            "  History: 76.60\n",
            "  Computer: 81.40\n"
          ]
        }
      ]
    },
    {
      "cell_type": "code",
      "source": [],
      "metadata": {
        "id": "JkPvFI5AlUYT"
      },
      "execution_count": null,
      "outputs": []
    },
    {
      "cell_type": "markdown",
      "source": [
        "#Part 3: Pandas, Data Visulaization"
      ],
      "metadata": {
        "id": "pNVdiSTIlVPe"
      }
    },
    {
      "cell_type": "code",
      "source": [
        "import pandas as pd\n",
        "\n",
        "# Student data\n",
        "students_data = {\n",
        "    \"Name\": [\"Alice\", \"Bob\", \"Cathy\", \"David\", \"Eva\"],\n",
        "    \"Math\": [85, 72, 90, 60, 78],\n",
        "    \"Science\": [90, 68, 95, 65, 82],\n",
        "    \"English\": [78, 75, 85, 70, 80],\n",
        "    \"History\": [92, 70, 87, 58, 76],\n",
        "    \"Computer\": [88, 80, 93, 62, 84]\n",
        "}\n",
        "\n",
        "# Create DataFrame\n",
        "df = pd.DataFrame(students_data)\n"
      ],
      "metadata": {
        "id": "UKokgNmqljH6"
      },
      "execution_count": 5,
      "outputs": []
    },
    {
      "cell_type": "code",
      "source": [
        "print(df)"
      ],
      "metadata": {
        "colab": {
          "base_uri": "https://localhost:8080/"
        },
        "id": "5zJxBdmv4EF1",
        "outputId": "569899ff-5227-4a96-bf4a-121092826125"
      },
      "execution_count": 6,
      "outputs": [
        {
          "output_type": "stream",
          "name": "stdout",
          "text": [
            "    Name  Math  Science  English  History  Computer\n",
            "0  Alice    85       90       78       92        88\n",
            "1    Bob    72       68       75       70        80\n",
            "2  Cathy    90       95       85       87        93\n",
            "3  David    60       65       70       58        62\n",
            "4    Eva    78       82       80       76        84\n"
          ]
        }
      ]
    },
    {
      "cell_type": "code",
      "source": [
        "# Calculate average marks\n",
        "df[\"Average\"] = df[[\"Math\", \"Science\", \"English\", \"History\", \"Computer\"]].mean(axis=1)\n",
        "\n",
        "# Grade function\n",
        "def get_grade(score):\n",
        "    if score >= 90:\n",
        "        return 'A+'\n",
        "    elif score >= 80:\n",
        "        return 'A'\n",
        "    elif score >= 70:\n",
        "        return 'B'\n",
        "    elif score >= 60:\n",
        "        return 'C'\n",
        "    else:\n",
        "        return 'D'\n",
        "\n",
        "# Assign grades\n",
        "df[\"Overall Grade\"] = df[\"Average\"].apply(get_grade)\n",
        "\n",
        "# Display DataFrame\n",
        "print(df)\n"
      ],
      "metadata": {
        "colab": {
          "base_uri": "https://localhost:8080/"
        },
        "id": "0hAj-__XlkJz",
        "outputId": "3e998438-0fb4-46fc-ef52-6809a7366d2c"
      },
      "execution_count": 7,
      "outputs": [
        {
          "output_type": "stream",
          "name": "stdout",
          "text": [
            "    Name  Math  Science  English  History  Computer  Average Overall Grade\n",
            "0  Alice    85       90       78       92        88     86.6             A\n",
            "1    Bob    72       68       75       70        80     73.0             B\n",
            "2  Cathy    90       95       85       87        93     90.0            A+\n",
            "3  David    60       65       70       58        62     63.0             C\n",
            "4    Eva    78       82       80       76        84     80.0             A\n"
          ]
        }
      ]
    },
    {
      "cell_type": "code",
      "source": [
        "import matplotlib.pyplot as plt\n",
        "\n",
        "# 1. Bar Chart – Student-wise average\n",
        "plt.figure(figsize=(8, 5))\n",
        "plt.bar(df[\"Name\"], df[\"Average\"], color='skyblue')\n",
        "plt.title(\"Average Marks of Each Student\")\n",
        "plt.xlabel(\"Student\")\n",
        "plt.ylabel(\"Average Marks\")\n",
        "plt.ylim(0, 100)\n",
        "plt.grid(axis='y')\n",
        "plt.show()\n",
        "\n",
        "# 2. Pie Chart – One student's marks\n",
        "plt.figure(figsize=(6, 6))\n",
        "plt.pie(df.loc[0, [\"Math\", \"Science\", \"English\", \"History\", \"Computer\"]],\n",
        "        labels=[\"Math\", \"Science\", \"English\", \"History\", \"Computer\"],\n",
        "        autopct=\"%1.1f%%\", startangle=140)\n",
        "plt.title(f\"{df.loc[0, 'Name']}'s Subject-wise Marks\")\n",
        "plt.show()\n",
        "\n",
        "# 3. Line Plot – Subject-wise trend for each student\n",
        "plt.figure(figsize=(10, 6))\n",
        "subjects = [\"Math\", \"Science\", \"English\", \"History\", \"Computer\"]\n",
        "for i in range(len(df)):\n",
        "    plt.plot(subjects, df.loc[i, subjects], marker='o', label=df.loc[i, \"Name\"])\n",
        "plt.title(\"Subject-wise Performance of Students\")\n",
        "plt.xlabel(\"Subjects\")\n",
        "plt.ylabel(\"Marks\")\n",
        "plt.ylim(0, 100)\n",
        "plt.legend()\n",
        "plt.grid(True)\n",
        "plt.show()\n",
        "\n",
        "# 4. Bar Chart – Subject-wise average\n",
        "plt.figure(figsize=(8, 5))\n",
        "df[subjects].mean().plot(kind=\"bar\", color='salmon')\n",
        "plt.title(\"Average Marks per Subject\")\n",
        "plt.ylabel(\"Average Marks\")\n",
        "plt.xticks(rotation=45)\n",
        "plt.grid(axis='y')\n",
        "plt.show()\n",
        "\n",
        "# 5. Boxplot – Subject marks distribution\n",
        "plt.figure(figsize=(10, 6))\n",
        "df[subjects].plot(kind='box')\n",
        "plt.title(\"Boxplot of Subject-wise Marks\")\n",
        "plt.ylabel(\"Marks\")\n",
        "plt.grid(True)\n",
        "plt.show()\n"
      ],
      "metadata": {
        "colab": {
          "base_uri": "https://localhost:8080/",
          "height": 1000
        },
        "id": "Av44ZXoflsJP",
        "outputId": "c7fd37f4-9f74-4f6b-fccc-c8cc4ad8738f"
      },
      "execution_count": null,
      "outputs": [
        {
          "output_type": "display_data",
          "data": {
            "text/plain": [
              "<Figure size 800x500 with 1 Axes>"
            ],
            "image/png": "[encoded data removed]"
          },
          "metadata": {}
        },
        {
          "output_type": "display_data",
          "data": {
            "text/plain": [
              "<Figure size 600x600 with 1 Axes>"
            ],
            "image/png": "[encoded data removed]"
          },
          "metadata": {}
        },
        {
          "output_type": "display_data",
          "data": {
            "text/plain": [
              "<Figure size 1000x600 with 1 Axes>"
            ],
            "image/png": "[encoded data removed]"
          },
          "metadata": {}
        },
        {
          "output_type": "display_data",
          "data": {
            "text/plain": [
              "<Figure size 800x500 with 1 Axes>"
            ],
            "image/png": "[encoded data removed]"
          },
          "metadata": {}
        },
        {
          "output_type": "display_data",
          "data": {
            "text/plain": [
              "<Figure size 1000x600 with 0 Axes>"
            ]
          },
          "metadata": {}
        },
        {
          "output_type": "display_data",
          "data": {
            "text/plain": [
              "<Figure size 640x480 with 1 Axes>"
            ],
            "image/png": "[encoded data removed]"
          },
          "metadata": {}
        }
      ]
    }
  ]
}